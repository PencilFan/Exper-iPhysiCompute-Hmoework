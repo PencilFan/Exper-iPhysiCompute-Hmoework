{
 "cells": [
  {
   "cell_type": "markdown",
   "metadata": {},
   "source": [
    "<br>POINT：\n",
    "<br>画一维热图:使用imshow函数,只不过要人为地将一维数据复制增宽为二维数据\n",
    "<br>参数的选取非常重要,要使原方程收敛,$\\alpha$与$\\beta$要选取合适的值,经尝试若取$\\alpha=1,\\beta=-1$原方程发散,取$\\alpha=0.4,\\beta=0.2$时原方程收敛,猜测取$\\alpha < 1,\\beta < 1$时原方程都应该收敛,发散是的具体行为是只要Umat矩阵在某一列中出现负数,之后就会逐渐地发散开来,越算越大\n",
    "\n",
    "<br>PRO:\n",
    "<br>作热量分布的动态图像\n",
    "<br>传热方程、波动方程最后都有相同的矩阵递推关系，如何把这两个方程融合在一起\n",
    "<br>如何把传热方程、亥姆霍兹方程、薛定谔方程融合在一起\n",
    "<br>偏微分方程大多需要用到条纹矩阵,可以创建一个生成条纹矩阵的函数\n",
    "\n",
    "<br>NEW:\n",
    "<br>np.tile;np.repeat"
   ]
  },
  {
   "cell_type": "code",
   "execution_count": null,
   "metadata": {},
   "outputs": [],
   "source": [
    "import numpy as np\n",
    "#初始化数据\n",
    "a=1\n",
    "xN,tN=10,1\n",
    "x0,t0=0,0\n",
    "deltax=0.1\n",
    "alpha_target=0.4\n",
    "deltat=alpha_target*(deltax/a)**2#这样alpha为0.5,beta=-1不会发生指数爆炸,a可取任意值\n",
    "xlist=np.arange(x0,xN,deltax)\n",
    "tlist=np.arange(t0,tN,deltat)\n",
    "Nx,Nt=len(xlist),len(tlist)\n",
    "#设置参数与定义函数\n",
    "gamma=deltax**2/deltat\n",
    "alpha=a**2/gamma\n",
    "beta=1-2*alpha\n",
    "Lamda=np.zeros((Nx-2,Nx-2))\n",
    "def Boundary(t):\n",
    "    '''边界条件函数'''\n",
    "    f=0\n",
    "    g=0\n",
    "    return f,g\n",
    "def Initial(x):\n",
    "    '''初始条件函数'''\n",
    "    fun=lambda x:x*(xN-x)/xN**2\n",
    "    w=fun(x)\n",
    "    return w\n",
    "#创建条纹矩阵Lamda\n",
    "for i in range(Nx-3):\n",
    "    Lamda[i,i],Lamda[i,i+1],Lamda[i+1,i]=beta,alpha,alpha\n",
    "Lamda[Nx-3,Nx-3]=beta\n",
    "#设置Omega矩阵\n",
    "Omegamat=np.zeros((Nx-2,Nt))\n",
    "Omegamat[0,:],Omegamat[-1,:]=Boundary(tlist)\n",
    "#计算主函数U矩阵\n",
    "Umat=np.zeros((Nx-2,Nt))\n",
    "Umat[:,0]=Initial(xlist[1:Nx-1])\n",
    "for j in range(1,Nt):\n",
    "    Umat[:,j]=Lamda@Umat[:,j-1]+alpha*Omegamat[:,j-1]\n",
    "    index=Umat[:,j]<0\n",
    "    if np.sum(Umat[index,j])<0:\n",
    "        #检验Umat矩阵中是否存在负数,若存在就立即停止计算\n",
    "        break"
   ]
  },
  {
   "cell_type": "code",
   "execution_count": 22,
   "metadata": {},
   "outputs": [],
   "source": [
    "#计算理论值(具体解析式见文档)\n",
    "from math import pi\n",
    "K=50#取级数解析解的前50项\n",
    "def analy_u(x,t):\n",
    "    '''解析解表达式'''#需要用np.sin才能实现对矩阵运算\n",
    "    sum=np.zeros((Nx-2,Nt))\n",
    "    for k in range(K):\n",
    "        sum=sum+8/(pi*(2*k+1))**3*np.e**(-((2*k+1)*pi*a/xN)**2*t)*np.sin((2*k+1)*pi*x/xN)\n",
    "    return sum\n",
    "T,X=np.meshgrid(tlist,xlist[1:Nx-1])\n",
    "analy_Umat=analy_u(X,T)"
   ]
  },
  {
   "cell_type": "markdown",
   "metadata": {},
   "source": [
    "解析解为$$u(x, t)=\\sum_{k=0}^{\\infty} \\frac{8}{\\pi^{3}(2 k+1)^{3}} \\exp \\left[-\\frac{(2 k+1)^{2} \\pi^{2} a^{2} t}{l^{2}}\\right] \\sin \\frac{(2 k+1)}{l} \\pi x$$"
   ]
  },
  {
   "cell_type": "code",
   "execution_count": 21,
   "metadata": {},
   "outputs": [
    {
     "data": {
      "image/png": "[encoded data removed]",
      "text/plain": [
       "<Figure size 640x480 with 2 Axes>"
      ]
     },
     "metadata": {},
     "output_type": "display_data"
    }
   ],
   "source": [
    "#作图\n",
    "width=5\n",
    "tj=5\n",
    "calcu_result=Umat[:,tj]\n",
    "analy_result=analy_Umat[:,tj]\n",
    "calcu_result=np.tile(calcu_result,(width,1))\n",
    "analy_result=np.tile(analy_result,(width,1))\n",
    "import matplotlib.pyplot as plt\n",
    "fig=plt.figure()\n",
    "ax1=fig.add_subplot(2,1,1)\n",
    "ax1.imshow(calcu_result)\n",
    "ax1.set_title('Calculated Result')\n",
    "ax1.imshow(calcu_result)\n",
    "ax2=fig.add_subplot(2,1,2)\n",
    "ax2.imshow(analy_result)\n",
    "ax2.set_title('Analytic Result')\n",
    "plt.show()"
   ]
  }
 ],
 "metadata": {
  "kernelspec": {
   "display_name": "Python 3.10.5 64-bit",
   "language": "python",
   "name": "python3"
  },
  "language_info": {
   "codemirror_mode": {
    "name": "ipython",
    "version": 3
   },
   "file_extension": ".py",
   "mimetype": "text/x-python",
   "name": "python",
   "nbconvert_exporter": "python",
   "pygments_lexer": "ipython3",
   "version": "3.10.5"
  },
  "orig_nbformat": 4,
  "vscode": {
   "interpreter": {
    "hash": "27f6fea6f47ae512550f0b8facdbd035a93e1dd89633f7bf2dd00a2502c71d0d"
   }
  }
 },
 "nbformat": 4,
 "nbformat_minor": 2
}
