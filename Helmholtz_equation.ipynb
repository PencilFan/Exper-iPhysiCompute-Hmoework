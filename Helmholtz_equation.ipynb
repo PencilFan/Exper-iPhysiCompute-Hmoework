{
 "cells": [
  {
   "cell_type": "markdown",
   "metadata": {},
   "source": [
    "难点：\n",
    "做三维图像\n",
    "问题：\n",
    "对于齐次边界条件,本征值只能选取特殊的分离值,这对于分离离散化后的方程来说意味着需要选择合适的参数使得矩阵的行列式为0\n",
    "这样就需要先用sympy模块算出特定的参数,再构造Lamda矩阵,然后求解有无穷多组解的齐次线性方程组\n",
    "这样与非齐次边界条件兼容可能较为困难\n",
    "这或许可以通过取较小的边界条件实现\n",
    "待做：\n",
    "加上Umat在边界处的值"
   ]
  },
  {
   "cell_type": "code",
   "execution_count": 14,
   "metadata": {},
   "outputs": [],
   "source": [
    "import numpy as np\n",
    "# k=1\n",
    "xN,Nx=1,9\n",
    "yN,Ny=1,9\n",
    "zN,Nz=1,8\n",
    "xlist=np.linspace(0,xN,Nx)\n",
    "deltax=xlist[1]-xlist[0]\n",
    "k=np.sqrt(3)/deltax\n",
    "def Boundary(y,z):\n",
    "    f=lambda y,z:1\n",
    "    g=lambda y,z:1\n",
    "    return f(y,z),g(y,z)\n",
    "#构造Lamda矩阵\n",
    "Lambda=np.zeros((Nx-2,Nx-2))\n",
    "alpha=(k*deltax)**2-2\n",
    "for i in range(Nx-3):\n",
    "    Lambda[i,i]=alpha\n",
    "    Lambda[i+1,i],Lambda[i,i+1]=1,1\n",
    "Lambda[Nx-3,Nx-3]=alpha\n",
    "# np.linalg.matrix_rank(Lambda)\n",
    "#构造u\n",
    "ylist=np.linspace(0,yN,Ny)\n",
    "zlist=np.linspace(0,zN,Nz)\n",
    "Omega=np.zeros(Nx-2)\n",
    "Umat=np.zeros((Nx-2,Ny,Nz))\n",
    "for j in range(Ny):\n",
    "    for k in range(Nz):\n",
    "        Omega[0],Omega[Nx-3]=Boundary(ylist[j],zlist[k])\n",
    "        Umat[:,j,k]=np.linalg.solve(Lambda,-Omega)\n"
   ]
  },
  {
   "cell_type": "code",
   "execution_count": 16,
   "metadata": {},
   "outputs": [
    {
     "data": {
      "image/png": "[encoded data removed]",
      "text/plain": [
       "<Figure size 500x400 with 2 Axes>"
      ]
     },
     "metadata": {},
     "output_type": "display_data"
    }
   ],
   "source": [
    "import matplotlib.pyplot as plt\n",
    "fig=plt.figure(figsize=(5, 4))\n",
    "# ax=fig.add_subplot(projection='3d')\n",
    "plt.imshow(Umat[:,:,5])\n",
    "plt.colorbar()\n",
    "plt.show()"
   ]
  },
  {
   "cell_type": "code",
   "execution_count": null,
   "metadata": {},
   "outputs": [],
   "source": []
  }
 ],
 "metadata": {
  "kernelspec": {
   "display_name": "Python 3.10.5 64-bit",
   "language": "python",
   "name": "python3"
  },
  "language_info": {
   "codemirror_mode": {
    "name": "ipython",
    "version": 3
   },
   "file_extension": ".py",
   "mimetype": "text/x-python",
   "name": "python",
   "nbconvert_exporter": "python",
   "pygments_lexer": "ipython3",
   "version": "3.10.5"
  },
  "orig_nbformat": 4,
  "vscode": {
   "interpreter": {
    "hash": "27f6fea6f47ae512550f0b8facdbd035a93e1dd89633f7bf2dd00a2502c71d0d"
   }
  }
 },
 "nbformat": 4,
 "nbformat_minor": 2
}
